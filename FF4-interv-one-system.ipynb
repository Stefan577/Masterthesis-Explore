{
 "cells": [
  {
   "cell_type": "code",
   "execution_count": null,
   "metadata": {
    "collapsed": true
   },
   "outputs": [],
   "source": [
    "import pandas as pd\n",
    "import os\n",
    "import seaborn as sns\n",
    "from ast import literal_eval\n",
    "from matplotlib import pyplot as plt"
   ]
  },
  {
   "cell_type": "code",
   "execution_count": null,
   "outputs": [],
   "source": [
    "exp_path = \"/mnt/e/Experiment_Toy_2\"\n",
    "alpha = 0.1"
   ],
   "metadata": {
    "collapsed": false
   }
  },
  {
   "cell_type": "code",
   "execution_count": null,
   "outputs": [],
   "source": [
    "df_cov_inter = pd.read_csv(os.path.join(exp_path, \"cond_cov_interactions.csv\"), sep=\";\")"
   ],
   "metadata": {
    "collapsed": false
   }
  },
  {
   "cell_type": "code",
   "execution_count": null,
   "outputs": [],
   "source": [
    "df_cov_inter"
   ],
   "metadata": {
    "collapsed": false
   }
  },
  {
   "cell_type": "code",
   "execution_count": null,
   "outputs": [],
   "source": [
    "df_select = df_cov_inter.loc[(df_cov_inter['Methode'] == \"jackknife_plus_lin_lasso_None\") & (\n",
    "            df_cov_inter['Strategie'] == \"Random_3\") & (df_cov_inter['Run'] == \"run_3\")]"
   ],
   "metadata": {
    "collapsed": false
   }
  },
  {
   "cell_type": "code",
   "execution_count": null,
   "outputs": [],
   "source": [
    "df_select['Inter'] = df_select['Inter'].apply(literal_eval)\n",
    "df_select = df_select.explode('Inter')"
   ],
   "metadata": {
    "collapsed": false
   }
  },
  {
   "cell_type": "code",
   "execution_count": null,
   "outputs": [],
   "source": [
    "df_select = df_select.reset_index(drop=True)\n",
    "df_select[\"cov_x_int\"]= df_select[\"Inter\"]/(df_select[\"Cov\"])"
   ],
   "metadata": {
    "collapsed": false
   }
  },
  {
   "cell_type": "code",
   "execution_count": null,
   "outputs": [],
   "source": [
    "features = df_cov_inter.Feature.unique().tolist()\n",
    "features"
   ],
   "metadata": {
    "collapsed": false
   }
  },
  {
   "cell_type": "code",
   "execution_count": null,
   "outputs": [],
   "source": [
    "features_select = [x for x in features if \"_+_\" not in x]"
   ],
   "metadata": {
    "collapsed": false
   }
  },
  {
   "cell_type": "code",
   "execution_count": null,
   "outputs": [],
   "source": [
    "features_select.append(\"no_8x8dct_+_no_fast_pskip\")\n",
    "features_select.append(\"no_fast_pskip_+_no_weightb\")"
   ],
   "metadata": {
    "collapsed": false
   }
  },
  {
   "cell_type": "code",
   "execution_count": null,
   "outputs": [],
   "source": [
    "features_select"
   ],
   "metadata": {
    "collapsed": false
   }
  },
  {
   "cell_type": "code",
   "execution_count": null,
   "outputs": [],
   "source": [
    "df_select_plot = df_select.loc[df_select['Feature'].isin(features_select)]"
   ],
   "metadata": {
    "collapsed": false
   }
  },
  {
   "cell_type": "code",
   "execution_count": null,
   "outputs": [],
   "source": [
    "df_select_plot"
   ],
   "metadata": {
    "collapsed": false
   }
  },
  {
   "cell_type": "code",
   "execution_count": null,
   "outputs": [],
   "source": [
    "plt.figure(figsize=(6, len(features_select) * 0.3075))\n",
    "\n",
    "\n",
    "ax1 = sns.boxplot(data=df_select_plot, x='Cov', y='Feature', hue='Feature')\n",
    "#sns.move_legend(ax1, \"upper left\", bbox_to_anchor=(1, 1))\n",
    "ax1.axvline(x=(1 - 2 * alpha), color='r', linestyle='--')\n",
    "ax1.axvline(x=(1 - alpha), color='y', linestyle='--')\n",
    "#sns.move_legend(ax1, \"upper left\", bbox_to_anchor=(1, 0.97))\n",
    "# Adjust layout\n",
    "plt.tight_layout()\n",
    "\n",
    "# Show the plot\n",
    "plt.show()"
   ],
   "metadata": {
    "collapsed": false
   }
  },
  {
   "cell_type": "code",
   "execution_count": null,
   "outputs": [],
   "source": [
    "ax3 = sns.kdeplot(df_select.loc[df_select['Feature'].isin(features_select)], x='Inter', hue='Feature')\n",
    "sns.move_legend(ax3, \"upper left\", bbox_to_anchor=(1, 1))"
   ],
   "metadata": {
    "collapsed": false
   }
  },
  {
   "cell_type": "code",
   "execution_count": null,
   "outputs": [],
   "source": [
    "plt.figure(figsize=(6, len(features_select) * 0.34))\n",
    "ax3 = sns.boxplot(df_select.loc[df_select['Feature'].isin(features_select)], x='Inter',y='Feature', hue='Feature')\n",
    "#sns.move_legend(ax3, \"upper left\", bbox_to_anchor=(1, 0.97))\n",
    "ax3.set_xlim(left=0)\n",
    "#plt.tight_layout(rect=[0, 0, 1, 0.95])"
   ],
   "metadata": {
    "collapsed": false
   }
  },
  {
   "cell_type": "code",
   "execution_count": null,
   "outputs": [],
   "source": [
    "# Abbildung mit Subplots erstellen\n",
    "fig, axs = plt.subplots(1, 2, figsize=(12, 4.6), sharey=True)  # Horizontale Subplots\n",
    "\n",
    "# Boxplot für 'Cov'\n",
    "sns.boxplot(data=df_select_plot, x='Cov',y='Feature', hue='Feature', ax=axs[0])\n",
    "axs[0].axvline(x=(1 - 2 * alpha), color='r', linestyle='--')\n",
    "axs[0].axvline(x=(1 - alpha), color='y', linestyle='--')\n",
    "\n",
    "# KDE-Plot für 'Inter'\n",
    "#sns.kdeplot(data=df_select.loc[df_select['Feature'].isin(features_select)], x='Inter', hue='Feature', ax=axs[1])\n",
    "\n",
    "# Boxplot für 'Inter'\n",
    "sns.boxplot(data=df_select.loc[df_select['Feature'].isin(features_select)], x='Inter', y='Feature', hue='Feature', ax=axs[1])\n",
    "axs[1].set_xlim(left=0)\n",
    "\n",
    "# Gemeinsame Legende erstellen\n",
    "handles, labels = axs[0].get_legend_handles_labels()\n",
    "fig.legend(handles, labels, loc='center left', bbox_to_anchor=(1, 0.55), prop={'size': 8.3})\n",
    "\n",
    "\n",
    "\n",
    "# Layout anpassen und anzeigen\n",
    "plt.tight_layout()\n",
    "plt.show()"
   ],
   "metadata": {
    "collapsed": false
   }
  },
  {
   "cell_type": "code",
   "execution_count": null,
   "outputs": [],
   "source": [
    "# Abbildung mit Subplots erstellen\n",
    "fig, axs = plt.subplots(1, 2, figsize=(12, 4.6))  # Horizontale Subplots\n",
    "\n",
    "# Boxplot für 'Cov'\n",
    "#sns.boxplot(data=df_select_plot, x='Cov', hue='Feature', ax=axs[0])\n",
    "#axs[0].axvline(x=(1 - 2 * alpha), color='r', linestyle='--')\n",
    "#axs[0].axvline(x=(1 - alpha), color='y', linestyle='--')\n",
    "\n",
    "# KDE-Plot für 'Inter'\n",
    "sns.kdeplot(data=df_select.loc[df_select['Feature'].isin(features_select)], x='Inter', hue='Feature', ax=axs[0])\n",
    "\n",
    "# Boxplot für 'Inter'\n",
    "sns.boxplot(data=df_select.loc[df_select['Feature'].isin(features_select)], x='Inter', y='Feature', hue='Feature', ax=axs[1])\n",
    "axs[1].set_xlim(left=0)\n",
    "\n",
    "# Gemeinsame Legende erstellen\n",
    "handles, labels = axs[1].get_legend_handles_labels()\n",
    "fig.legend(handles, labels, loc='center left', bbox_to_anchor=(0, 0.55), prop={'size': 8.3})\n",
    "\n",
    "\n",
    "\n",
    "# Layout anpassen und anzeigen\n",
    "plt.tight_layout()\n",
    "plt.show()"
   ],
   "metadata": {
    "collapsed": false
   }
  },
  {
   "cell_type": "code",
   "execution_count": null,
   "outputs": [],
   "source": [
    "plt.figure(figsize=(3, 0.75*len(features_select) * 0.34))\n",
    "g = sns.violinplot(data=df_select.loc[df_select['Feature'].isin(features_select)], x='Inter', y='Feature', hue='Feature')\n",
    "g.set_xlabel('Intervallbreite')\n",
    "g.set_ylabel('Features')\n",
    "plt.savefig(os.path.join(exp_path, \"interv-features.png\"), bbox_inches='tight')\n"
   ],
   "metadata": {
    "collapsed": false
   }
  },
  {
   "cell_type": "code",
   "execution_count": null,
   "outputs": [],
   "source": [
    "plt.figure(figsize=(3, 0.75*len(features_select) * 0.34))\n",
    "g = sns.violinplot(data=df_select.loc[df_select['Feature'].isin(features_select)], x='cov_x_int', y='Feature', hue='Feature')\n",
    "g.set_xlabel('Intervallbreite/Coverage')\n",
    "g.set_ylabel('Features')\n",
    "plt.savefig(os.path.join(exp_path, \"cov-x-interv-features.png\"), bbox_inches='tight')"
   ],
   "metadata": {
    "collapsed": false
   }
  },
  {
   "cell_type": "code",
   "execution_count": null,
   "outputs": [],
   "source": [
    "df_select.loc[df_select['Feature'].isin(features_select)]"
   ],
   "metadata": {
    "collapsed": false
   }
  },
  {
   "cell_type": "code",
   "execution_count": null,
   "outputs": [],
   "source": [
    "numeric_cols = df_select.select_dtypes(include='number').columns\n",
    "numeric_cols"
   ],
   "metadata": {
    "collapsed": false
   }
  },
  {
   "cell_type": "code",
   "execution_count": null,
   "outputs": [],
   "source": [
    "df = df_select\n",
    "df['Cov'] = pd.to_numeric(df['Cov'], errors='coerce')\n",
    "df['Inter'] = pd.to_numeric(df['Inter'], errors='coerce')\n",
    "df['cov_x_int'] = pd.to_numeric(df['cov_x_int'], errors='coerce')\n",
    "numeric_cols = df.select_dtypes(include='number').columns"
   ],
   "metadata": {
    "collapsed": false
   }
  },
  {
   "cell_type": "code",
   "execution_count": null,
   "outputs": [],
   "source": [
    "grouped_df = df.groupby('Feature')[numeric_cols].mean().reset_index()"
   ],
   "metadata": {
    "collapsed": false
   }
  },
  {
   "cell_type": "code",
   "execution_count": null,
   "outputs": [],
   "source": [
    "grouped_df.loc[grouped_df['Feature'].isin(features_select)]"
   ],
   "metadata": {
    "collapsed": false
   }
  },
  {
   "cell_type": "code",
   "execution_count": null,
   "outputs": [],
   "source": [
    "grouped_df['Feature'] = pd.Categorical(grouped_df['Feature'], categories=features_select, ordered=True)\n",
    "sorted_df = grouped_df.loc[grouped_df['Feature'].isin(features_select)].sort_values('Feature').reset_index(drop=True)\n",
    "sorted_df"
   ],
   "metadata": {
    "collapsed": false
   }
  },
  {
   "cell_type": "markdown",
   "source": [
    "# Statistische Test"
   ],
   "metadata": {
    "collapsed": false
   }
  },
  {
   "cell_type": "code",
   "execution_count": null,
   "outputs": [],
   "source": [
    "df = df_select.loc[df_select['Feature'].isin(features_select)]"
   ],
   "metadata": {
    "collapsed": false
   }
  },
  {
   "cell_type": "code",
   "execution_count": null,
   "outputs": [],
   "source": [
    "from scipy.stats import kruskal\n",
    "groups = df.groupby('Feature')['cov_x_int'].apply(list)\n",
    "\n",
    "# Liste aller Features ohne 'root'\n",
    "features = [feature for feature in groups.index if feature != 'root']\n",
    "\n",
    "# Resultate speichern\n",
    "results = []\n",
    "\n",
    "# Kruskal-Wallis-Test für jedes Feature gegen 'root'\n",
    "for feature in features:\n",
    "    stat, p_value = kruskal(groups['root'], groups[feature])\n",
    "    results.append({'Feature': feature, 'p_value': p_value})\n",
    "\n",
    "# Ergebnisse als DataFrame\n",
    "results_df = pd.DataFrame(results)\n",
    "\n",
    "# Ausgabe der Ergebnisse\n",
    "print(results_df)"
   ],
   "metadata": {
    "collapsed": false
   }
  },
  {
   "cell_type": "code",
   "execution_count": null,
   "outputs": [],
   "source": [
    "results_df"
   ],
   "metadata": {
    "collapsed": false
   }
  },
  {
   "cell_type": "code",
   "execution_count": null,
   "outputs": [],
   "source": [
    "results_df['Feature'] = pd.Categorical(results_df['Feature'], categories=features_select, ordered=True)\n",
    "sorted_df = results_df.loc[results_df['Feature'].isin(features_select)].sort_values('Feature').reset_index(drop=True)"
   ],
   "metadata": {
    "collapsed": false
   }
  },
  {
   "cell_type": "code",
   "execution_count": null,
   "outputs": [],
   "source": [
    "sorted_df"
   ],
   "metadata": {
    "collapsed": false
   }
  },
  {
   "cell_type": "code",
   "execution_count": null,
   "outputs": [],
   "source": [
    "i = 0\n",
    "for index, row in sorted_df.iterrows():\n",
    "    if row['p_value']> 0.00263:\n",
    "        i = i +1\n",
    "print(i)"
   ],
   "metadata": {
    "collapsed": false
   }
  },
  {
   "cell_type": "code",
   "execution_count": null,
   "outputs": [],
   "source": [],
   "metadata": {
    "collapsed": false
   }
  },
  {
   "cell_type": "code",
   "execution_count": null,
   "outputs": [],
   "source": [],
   "metadata": {
    "collapsed": false
   }
  }
 ],
 "metadata": {
  "kernelspec": {
   "display_name": "Python 3",
   "language": "python",
   "name": "python3"
  },
  "language_info": {
   "codemirror_mode": {
    "name": "ipython",
    "version": 2
   },
   "file_extension": ".py",
   "mimetype": "text/x-python",
   "name": "python",
   "nbconvert_exporter": "python",
   "pygments_lexer": "ipython2",
   "version": "2.7.6"
  }
 },
 "nbformat": 4,
 "nbformat_minor": 0
}
