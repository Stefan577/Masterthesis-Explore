{
 "cells": [
  {
   "cell_type": "code",
   "execution_count": null,
   "metadata": {
    "collapsed": true
   },
   "outputs": [],
   "source": [
    "exp_path = \"/mnt/e/\""
   ]
  },
  {
   "cell_type": "code",
   "execution_count": null,
   "outputs": [],
   "source": [
    "systems = [\n",
    "    \"Experiment_nginx_energy\",\n",
    "    \"Experiment_7z_energy\",\n",
    "    \"Experiment_x264_energy\",\n",
    "    \"Experiment_lrzip_energy\",\n",
    "    \"Experiment_HSQLDB_energy\",\n",
    "    \"Experiment_PostgreSQL_pervolution_energy\",\n",
    "    \"Experiment_VP8_pervolution_energy\",\n",
    "    \"Experiment_Apache_energy\"\n",
    "]\n",
    "\n",
    "systems = [\n",
    "    \"Experiment_7z_energy\",\n",
    "    \"Experiment_lrzip_energy\",\n",
    "    \"Experiment_nginx_energy\",\n",
    "    \"Experiment_PostgreSQL_pervolution_energy\",\n",
    "    \"Experiment_VP8_pervolution_energy\",\n",
    "    \"Experiment_x264_energy\",\n",
    "    \"Experiment_HSQLDB_energy\",\n",
    "    \"Experiment_Apache_energy\"\n",
    "]\n",
    "\n",
    "systems = [\n",
    "    \"Experiment_7z_energy\",\n",
    "    \"Experiment_lrzip_energy\",\n",
    "    \"Experiment_VP8_pervolution_energy\",\n",
    "    \"Experiment_PostgreSQL_pervolution_energy\",\n",
    "    \"Experiment_nginx_energy\",\n",
    "    \"Experiment_x264_energy\",\n",
    "    \"Experiment_HSQLDB_energy\",\n",
    "    \"Experiment_Apache_energy\"\n",
    "]"
   ],
   "metadata": {
    "collapsed": false
   }
  },
  {
   "cell_type": "code",
   "execution_count": null,
   "outputs": [],
   "source": [
    "def rename_strings(input_string):\n",
    "    # Dictionary mit Umbenennungsregeln\n",
    "    rename_dict = {\n",
    "        \"Experiment_x264_energy\": \"x264\",\n",
    "        \"Experiment_VP8_pervolution_energy\": \"VP8\",\n",
    "        \"Experiment_PostgreSQL_pervolution_energy\": \"Postgres\",\n",
    "        \"Experiment_nginx_energy\": \"nginx\",\n",
    "        \"Experiment_lrzip_energy\": \"lrzip\",\n",
    "        \"Experiment_HSQLDB_energy\": \"HSQLDB\",\n",
    "        \"Experiment_7z_energy\": \"7z\",\n",
    "        \"Experiment_Apache_energy\": \"Apache\",\n",
    "        \"Random_3\": \"Random 3\",\n",
    "        #\"Random_2\": \"Random 2\",\n",
    "        \"Random_2\": \"Random 2: 25\",\n",
    "        \"Random_2_2\": \"Random 2: 50\",\n",
    "        \"Random_2_3\": \"Random 2: 75\",\n",
    "        \"Random_2_4\": \"Random 2: 150\",\n",
    "        \"Random_1\": \"Random 1\",\n",
    "        \"T-wise_2\": \"T-wise 2\",\n",
    "        \"T-wise_3\": \"T-wise 3\",\n",
    "        \"Distance_1\": \"Distance 1\",\n",
    "        \"Distance_2\": \"Distance 2\",\n",
    "        \"Distance_3\": \"Distance 3\"\n",
    "        # Weitere Umbenennungen hier hinzufügen\n",
    "    }\n",
    "\n",
    "    # Prüfen, ob der input_string im Dictionary existiert\n",
    "    if input_string in rename_dict:\n",
    "        return rename_dict[input_string]\n",
    "    else:\n",
    "        # Wenn keine Übereinstimmung gefunden wird, den originalen input_string zurückgeben\n",
    "        return input_string"
   ],
   "metadata": {
    "collapsed": false
   }
  },
  {
   "cell_type": "code",
   "execution_count": null,
   "outputs": [],
   "source": [
    "method = \"cqr_lgbm_quant_None\"\n",
    "#method = \"jackknife_plus_lin_lasso_None\"\n",
    "#method = \"baysian\""
   ],
   "metadata": {
    "collapsed": false
   }
  },
  {
   "cell_type": "code",
   "execution_count": null,
   "outputs": [],
   "source": [
    "#sampling_stategie = [\"Random_1\", \"Random_2\", \"Random_3\"]\n",
    "sampling_stategie = [\"Random_2\", \"Random_2_3\", \"Random_2_4\"]\n",
    "#sampling_stategie = [\"OW\", \"T-wise_2\", \"T-wise_3\"]\n",
    "#sampling_stategie = [\"Distance_1\", \"Distance_2\", \"Distance_3\"]\n",
    "alpha = 0.1"
   ],
   "metadata": {
    "collapsed": false
   }
  },
  {
   "cell_type": "code",
   "execution_count": null,
   "outputs": [],
   "source": [
    "def get_folder_names(path):\n",
    "    folder_names = []\n",
    "    for item in os.listdir(path):\n",
    "        item_path = os.path.join(path, item)\n",
    "        if os.path.isdir(item_path) and item not in ['$RECYCLE.BIN', 'System Volume Information']:\n",
    "            folder_names.append(item)\n",
    "\n",
    "    return folder_names"
   ],
   "metadata": {
    "collapsed": false
   }
  },
  {
   "cell_type": "code",
   "execution_count": null,
   "outputs": [],
   "source": [
    "import os\n",
    "import json\n",
    "import pandas as pd\n",
    "\n",
    "col_system = []\n",
    "col_Cov_err = []\n",
    "col_coverage = []\n",
    "col_sampling = []\n",
    "\n",
    "for i in sampling_stategie:\n",
    "    for s in systems:\n",
    "        path = os.path.join(exp_path, s, i)\n",
    "        runs = get_folder_names(path)\n",
    "\n",
    "        for run in runs:\n",
    "            for r in runs:\n",
    "                json_name = f\"{method}_result.txt\"\n",
    "                json_path = os.path.join(exp_path, s, i, r, json_name)\n",
    "                try:\n",
    "                    with open(json_path) as json_file:\n",
    "                        data = json.load(json_file)\n",
    "                        data[\"Cov_dif\"] = abs(data['coverage'] - (1 - alpha))\n",
    "                        col_Cov_err.append(data['Cov_dif'])\n",
    "                        col_coverage.append(data[\"coverage\"])\n",
    "                        col_system.append(rename_strings(s))\n",
    "                        col_sampling.append(rename_strings(i))\n",
    "                except FileNotFoundError:\n",
    "                    print(f\"{s}, {i}: {r} has no Data for this ML-Model({method})\")\n",
    "                    col_Cov_err.append(None)\n",
    "                    col_coverage.append(None)\n",
    "                    col_system.append(rename_strings(s))\n",
    "                    col_sampling.append(rename_strings(i))\n",
    "daten = {\n",
    "    \"System\": col_system,\n",
    "    \"Cov_err\": col_Cov_err,\n",
    "    \"Coverage\": col_coverage,\n",
    "    \"Sampling Strategie\": col_sampling\n",
    "}\n",
    "result_df = pd.DataFrame(daten)\n",
    "\n",
    "result_df\n"
   ],
   "metadata": {
    "collapsed": false
   }
  },
  {
   "cell_type": "code",
   "execution_count": null,
   "outputs": [],
   "source": [
    "sampling = \"Random_25\"\n",
    "filtered_df = result_df.loc[result_df[\"Sampling Strategie\"]==sampling]\n",
    "filtered_df"
   ],
   "metadata": {
    "collapsed": false
   }
  },
  {
   "cell_type": "code",
   "execution_count": null,
   "outputs": [],
   "source": [
    "import seaborn as sns\n",
    "import matplotlib.pyplot as plt\n",
    "\n",
    "plt.figure(figsize=(10, 6))\n",
    "sns.boxplot(data=filtered_df, x='Cov_err', y='System', hue='System',legend=False, fill=True, palette='tab10')\n",
    "#sns.kdeplot(data=result_df, x='Cov_err', hue='System', fill=True, common_norm=False, palette='tab10', cut=0)\n",
    "\n",
    "plt.xlim(0, 0.15)\n",
    "\n",
    "# Titel und Beschriftungen\n",
    "plt.title(f\"{rename_strings(sampling)}\")\n",
    "plt.xlabel('Coverage Error')\n",
    "plt.ylabel('Density')\n",
    "\n",
    "plt.show()"
   ],
   "metadata": {
    "collapsed": false
   }
  },
  {
   "cell_type": "code",
   "execution_count": null,
   "outputs": [],
   "source": [
    "\n",
    "import seaborn as sns\n",
    "import matplotlib.pyplot as plt\n",
    "\n",
    "plt.figure(figsize=(10, 6))\n",
    "ax = sns.boxplot(data=filtered_df, x='Coverage', y='System', hue='System',legend=False, fill=True, palette='tab10')\n",
    "plt.xlim(0.75, 1)\n",
    "ax.axvline(x=(1 - 2 * alpha), color='r', linestyle='--')\n",
    "ax.axvline(x=(1 - alpha), color='y', linestyle='--')\n",
    "\n",
    "# Titel und Beschriftungen\n",
    "plt.title(f\"{rename_strings(sampling)}\")\n",
    "plt.xlabel('Coverage')\n",
    "plt.ylabel('Density')\n",
    "\n",
    "\n",
    "plt.show()"
   ],
   "metadata": {
    "collapsed": false
   }
  },
  {
   "cell_type": "code",
   "execution_count": null,
   "outputs": [],
   "source": [
    "g = sns.FacetGrid(result_df, col='Sampling Strategie', hue=\"System\")\n",
    "g.map(sns.kdeplot, 'Coverage', fill=True, cut=1)\n",
    "plt.legend(title='Sampling', bbox_to_anchor=(1.1, 1), loc='upper left', borderaxespad=0., frameon=True)\n",
    "g.set_titles(col_template=\"{col_name}\")"
   ],
   "metadata": {
    "collapsed": false
   }
  },
  {
   "cell_type": "code",
   "execution_count": null,
   "outputs": [],
   "source": [
    "g = sns.FacetGrid(result_df, col='Sampling Strategie', height=3, aspect=1, )\n",
    "#g.map(sns.boxplot,data=result_df, hue='System', x='Coverage', palette='tab10')\n",
    "#g.map_dataframe(sns.boxplot, x=\"Coverage\", y=\"System\", hue='System',legend=False, fill=True, palette='tab10')\n",
    "g.map_dataframe(sns.violinplot, x=\"Coverage\", y=\"System\", hue='System',legend=False, fill=True, palette='pastel')\n",
    "axes = g.axes.flatten()\n",
    "g.set_titles(col_template=\"{col_name}\")\n",
    "# Hinzufügen von vertikalen Linien zu jedem Plot\n",
    "\n",
    "\n",
    "\n",
    "for ax in axes:\n",
    "    ax.axvline(x=(1 - 2 * alpha), color='r', linestyle='--')\n",
    "    ax.axvline(x=(1 - alpha), color='y', linestyle='--')\n",
    "\n",
    "g.savefig(os.path.join(exp_path, \"cqr-com-grid\"), bbox_inches='tight')\n"
   ],
   "metadata": {
    "collapsed": false
   }
  },
  {
   "cell_type": "code",
   "execution_count": null,
   "outputs": [],
   "source": [],
   "metadata": {
    "collapsed": false
   }
  },
  {
   "cell_type": "code",
   "execution_count": null,
   "outputs": [],
   "source": [],
   "metadata": {
    "collapsed": false
   }
  },
  {
   "cell_type": "code",
   "execution_count": null,
   "outputs": [],
   "source": [],
   "metadata": {
    "collapsed": false
   }
  },
  {
   "cell_type": "code",
   "execution_count": null,
   "outputs": [],
   "source": [],
   "metadata": {
    "collapsed": false
   }
  }
 ],
 "metadata": {
  "kernelspec": {
   "display_name": "Python 3",
   "language": "python",
   "name": "python3"
  },
  "language_info": {
   "codemirror_mode": {
    "name": "ipython",
    "version": 2
   },
   "file_extension": ".py",
   "mimetype": "text/x-python",
   "name": "python",
   "nbconvert_exporter": "python",
   "pygments_lexer": "ipython2",
   "version": "2.7.6"
  }
 },
 "nbformat": 4,
 "nbformat_minor": 0
}
