{
 "cells": [
  {
   "cell_type": "code",
   "execution_count": 2,
   "metadata": {
    "collapsed": true,
    "ExecuteTime": {
     "end_time": "2024-07-12T08:09:02.928927900Z",
     "start_time": "2024-07-12T08:09:02.923928200Z"
    }
   },
   "outputs": [],
   "source": [
    "import os\n",
    "import pandas as pd"
   ]
  },
  {
   "cell_type": "code",
   "execution_count": 6,
   "outputs": [],
   "source": [
    "\n",
    "exp_path = \"/mnt/e/\"\n",
    "\n",
    "systems = [\n",
    "    \"Experiment_nginx_energy\",\n",
    "    \"Experiment_7z_energy\",\n",
    "    \"Experiment_x264_energy\",\n",
    "    \"Experiment_lrzip_energy\",\n",
    "    \"Experiment_HSQLDB_energy\",\n",
    "    \"Experiment_PostgreSQL_pervolution_energy\",\n",
    "    \"Experiment_VP8_pervolution_energy\",\n",
    "    \"Experiment_Apache_energy\"\n",
    "]\n",
    "\n",
    "dataframes = []\n",
    "\n",
    "for s in systems:\n",
    "        data = pd.read_csv(os.path.join(exp_path, s , \"coverage_mape.csv\"), sep=\";\")\n",
    "        dataframes.append(data)"
   ],
   "metadata": {
    "collapsed": false,
    "ExecuteTime": {
     "end_time": "2024-07-12T08:22:17.370293100Z",
     "start_time": "2024-07-12T08:22:17.332297200Z"
    }
   }
  },
  {
   "cell_type": "code",
   "execution_count": 21,
   "outputs": [],
   "source": [
    "from scipy.stats import pearsonr, spearmanr\n",
    "def calculate_correlations(dataframes, systems, methods=None, strategies=None):\n",
    "    results = []\n",
    "\n",
    "    for df, system in zip(dataframes,systems):\n",
    "        # Filter DataFrame nach Methode und Strategie, falls angegeben\n",
    "        if methods is not None:\n",
    "            df = df[df['Methode'].isin(methods)]\n",
    "        if strategies is not None:\n",
    "            df = df[df['Strategie'].isin(strategies)]\n",
    "        if not df.empty:\n",
    "            inter = df['Inter']\n",
    "            mape = df['Mape']\n",
    "\n",
    "            # Pearson-Korrelation\n",
    "            pearson_corr, pearson_p = pearsonr(inter, mape)\n",
    "\n",
    "            # Spearman-Korrelation\n",
    "            spearman_corr, spearman_p = spearmanr(inter, mape)\n",
    "\n",
    "            results.append({\n",
    "                'System': system,\n",
    "                'Methoden': methods,\n",
    "                'Strategien': strategies,\n",
    "                'Pearson_Korrelation': pearson_corr,\n",
    "                'Pearson_p-Wert': pearson_p,\n",
    "                'Spearman_Korrelation': spearman_corr,\n",
    "                'Spearman_p-Wert': spearman_p\n",
    "            })\n",
    "\n",
    "    return pd.DataFrame(results)\n"
   ],
   "metadata": {
    "collapsed": false,
    "ExecuteTime": {
     "end_time": "2024-07-12T08:37:09.759941800Z",
     "start_time": "2024-07-12T08:37:09.717942600Z"
    }
   }
  },
  {
   "cell_type": "code",
   "execution_count": 22,
   "outputs": [
    {
     "data": {
      "text/plain": "                                     System Methoden Strategien  \\\n0                   Experiment_nginx_energy     None       None   \n1                      Experiment_7z_energy     None       None   \n2                    Experiment_x264_energy     None       None   \n3                   Experiment_lrzip_energy     None       None   \n4                  Experiment_HSQLDB_energy     None       None   \n5  Experiment_PostgreSQL_pervolution_energy     None       None   \n6         Experiment_VP8_pervolution_energy     None       None   \n7                  Experiment_Apache_energy     None       None   \n\n   Pearson_Korrelation  Pearson_p-Wert  Spearman_Korrelation  Spearman_p-Wert  \n0             0.391772    1.442957e-60              0.377356     5.590688e-56  \n1             0.110258    8.668951e-06              0.566581    3.301282e-138  \n2             0.272222    3.749483e-56              0.740146     0.000000e+00  \n3             0.012067    6.274279e-01              0.698460    2.277375e-237  \n4             0.814426    0.000000e+00              0.565331    4.367410e-273  \n5            -0.129399    1.730682e-07             -0.218760     5.280338e-19  \n6            -0.018473    3.372980e-01             -0.388621     4.723010e-98  \n7             0.784199    0.000000e+00              0.824950     0.000000e+00  ",
      "text/html": "<div>\n<style scoped>\n    .dataframe tbody tr th:only-of-type {\n        vertical-align: middle;\n    }\n\n    .dataframe tbody tr th {\n        vertical-align: top;\n    }\n\n    .dataframe thead th {\n        text-align: right;\n    }\n</style>\n<table border=\"1\" class=\"dataframe\">\n  <thead>\n    <tr style=\"text-align: right;\">\n      <th></th>\n      <th>System</th>\n      <th>Methoden</th>\n      <th>Strategien</th>\n      <th>Pearson_Korrelation</th>\n      <th>Pearson_p-Wert</th>\n      <th>Spearman_Korrelation</th>\n      <th>Spearman_p-Wert</th>\n    </tr>\n  </thead>\n  <tbody>\n    <tr>\n      <th>0</th>\n      <td>Experiment_nginx_energy</td>\n      <td>None</td>\n      <td>None</td>\n      <td>0.391772</td>\n      <td>1.442957e-60</td>\n      <td>0.377356</td>\n      <td>5.590688e-56</td>\n    </tr>\n    <tr>\n      <th>1</th>\n      <td>Experiment_7z_energy</td>\n      <td>None</td>\n      <td>None</td>\n      <td>0.110258</td>\n      <td>8.668951e-06</td>\n      <td>0.566581</td>\n      <td>3.301282e-138</td>\n    </tr>\n    <tr>\n      <th>2</th>\n      <td>Experiment_x264_energy</td>\n      <td>None</td>\n      <td>None</td>\n      <td>0.272222</td>\n      <td>3.749483e-56</td>\n      <td>0.740146</td>\n      <td>0.000000e+00</td>\n    </tr>\n    <tr>\n      <th>3</th>\n      <td>Experiment_lrzip_energy</td>\n      <td>None</td>\n      <td>None</td>\n      <td>0.012067</td>\n      <td>6.274279e-01</td>\n      <td>0.698460</td>\n      <td>2.277375e-237</td>\n    </tr>\n    <tr>\n      <th>4</th>\n      <td>Experiment_HSQLDB_energy</td>\n      <td>None</td>\n      <td>None</td>\n      <td>0.814426</td>\n      <td>0.000000e+00</td>\n      <td>0.565331</td>\n      <td>4.367410e-273</td>\n    </tr>\n    <tr>\n      <th>5</th>\n      <td>Experiment_PostgreSQL_pervolution_energy</td>\n      <td>None</td>\n      <td>None</td>\n      <td>-0.129399</td>\n      <td>1.730682e-07</td>\n      <td>-0.218760</td>\n      <td>5.280338e-19</td>\n    </tr>\n    <tr>\n      <th>6</th>\n      <td>Experiment_VP8_pervolution_energy</td>\n      <td>None</td>\n      <td>None</td>\n      <td>-0.018473</td>\n      <td>3.372980e-01</td>\n      <td>-0.388621</td>\n      <td>4.723010e-98</td>\n    </tr>\n    <tr>\n      <th>7</th>\n      <td>Experiment_Apache_energy</td>\n      <td>None</td>\n      <td>None</td>\n      <td>0.784199</td>\n      <td>0.000000e+00</td>\n      <td>0.824950</td>\n      <td>0.000000e+00</td>\n    </tr>\n  </tbody>\n</table>\n</div>"
     },
     "execution_count": 22,
     "metadata": {},
     "output_type": "execute_result"
    }
   ],
   "source": [
    "results = calculate_correlations(dataframes, systems)\n",
    "results"
   ],
   "metadata": {
    "collapsed": false,
    "ExecuteTime": {
     "end_time": "2024-07-12T08:37:10.629930200Z",
     "start_time": "2024-07-12T08:37:10.571928400Z"
    }
   }
  },
  {
   "cell_type": "code",
   "execution_count": 27,
   "outputs": [
    {
     "data": {
      "text/plain": "                                     System Methoden  \\\n0                   Experiment_nginx_energy     None   \n1                      Experiment_7z_energy     None   \n2                    Experiment_x264_energy     None   \n3                   Experiment_lrzip_energy     None   \n4                  Experiment_HSQLDB_energy     None   \n5  Experiment_PostgreSQL_pervolution_energy     None   \n6         Experiment_VP8_pervolution_energy     None   \n7                  Experiment_Apache_energy     None   \n\n                       Strategien  Pearson_Korrelation  Pearson_p-Wert  \\\n0  [Random_1, Random_2, Random_3]             0.383204    2.481953e-20   \n1  [Random_1, Random_2, Random_3]             0.766110   2.307747e-105   \n2  [Random_1, Random_2, Random_3]             0.645329   3.100196e-128   \n3  [Random_1, Random_2, Random_3]             0.599715    4.804918e-54   \n4  [Random_1, Random_2, Random_3]             0.819311   1.118013e-262   \n5  [Random_1, Random_2, Random_3]             0.250766    3.453895e-09   \n6  [Random_1, Random_2, Random_3]            -0.001597    9.618339e-01   \n7  [Random_1, Random_2, Random_3]             0.814467   4.164272e-257   \n\n   Spearman_Korrelation  Spearman_p-Wert  \n0              0.694042     8.271912e-79  \n1              0.874879    1.605072e-171  \n2              0.765355    1.567193e-208  \n3              0.757894    7.191349e-102  \n4              0.606202    2.403950e-109  \n5              0.343009     2.354785e-16  \n6             -0.048657     1.446920e-01  \n7              0.858836    1.879420e-315  ",
      "text/html": "<div>\n<style scoped>\n    .dataframe tbody tr th:only-of-type {\n        vertical-align: middle;\n    }\n\n    .dataframe tbody tr th {\n        vertical-align: top;\n    }\n\n    .dataframe thead th {\n        text-align: right;\n    }\n</style>\n<table border=\"1\" class=\"dataframe\">\n  <thead>\n    <tr style=\"text-align: right;\">\n      <th></th>\n      <th>System</th>\n      <th>Methoden</th>\n      <th>Strategien</th>\n      <th>Pearson_Korrelation</th>\n      <th>Pearson_p-Wert</th>\n      <th>Spearman_Korrelation</th>\n      <th>Spearman_p-Wert</th>\n    </tr>\n  </thead>\n  <tbody>\n    <tr>\n      <th>0</th>\n      <td>Experiment_nginx_energy</td>\n      <td>None</td>\n      <td>[Random_1, Random_2, Random_3]</td>\n      <td>0.383204</td>\n      <td>2.481953e-20</td>\n      <td>0.694042</td>\n      <td>8.271912e-79</td>\n    </tr>\n    <tr>\n      <th>1</th>\n      <td>Experiment_7z_energy</td>\n      <td>None</td>\n      <td>[Random_1, Random_2, Random_3]</td>\n      <td>0.766110</td>\n      <td>2.307747e-105</td>\n      <td>0.874879</td>\n      <td>1.605072e-171</td>\n    </tr>\n    <tr>\n      <th>2</th>\n      <td>Experiment_x264_energy</td>\n      <td>None</td>\n      <td>[Random_1, Random_2, Random_3]</td>\n      <td>0.645329</td>\n      <td>3.100196e-128</td>\n      <td>0.765355</td>\n      <td>1.567193e-208</td>\n    </tr>\n    <tr>\n      <th>3</th>\n      <td>Experiment_lrzip_energy</td>\n      <td>None</td>\n      <td>[Random_1, Random_2, Random_3]</td>\n      <td>0.599715</td>\n      <td>4.804918e-54</td>\n      <td>0.757894</td>\n      <td>7.191349e-102</td>\n    </tr>\n    <tr>\n      <th>4</th>\n      <td>Experiment_HSQLDB_energy</td>\n      <td>None</td>\n      <td>[Random_1, Random_2, Random_3]</td>\n      <td>0.819311</td>\n      <td>1.118013e-262</td>\n      <td>0.606202</td>\n      <td>2.403950e-109</td>\n    </tr>\n    <tr>\n      <th>5</th>\n      <td>Experiment_PostgreSQL_pervolution_energy</td>\n      <td>None</td>\n      <td>[Random_1, Random_2, Random_3]</td>\n      <td>0.250766</td>\n      <td>3.453895e-09</td>\n      <td>0.343009</td>\n      <td>2.354785e-16</td>\n    </tr>\n    <tr>\n      <th>6</th>\n      <td>Experiment_VP8_pervolution_energy</td>\n      <td>None</td>\n      <td>[Random_1, Random_2, Random_3]</td>\n      <td>-0.001597</td>\n      <td>9.618339e-01</td>\n      <td>-0.048657</td>\n      <td>1.446920e-01</td>\n    </tr>\n    <tr>\n      <th>7</th>\n      <td>Experiment_Apache_energy</td>\n      <td>None</td>\n      <td>[Random_1, Random_2, Random_3]</td>\n      <td>0.814467</td>\n      <td>4.164272e-257</td>\n      <td>0.858836</td>\n      <td>1.879420e-315</td>\n    </tr>\n  </tbody>\n</table>\n</div>"
     },
     "execution_count": 27,
     "metadata": {},
     "output_type": "execute_result"
    }
   ],
   "source": [
    "filter_Strategie = [\"Random_1\", \"Random_2\", \"Random_3\"]\n",
    "filtered_results = calculate_correlations(dataframes, systems, strategies=filter_Strategie)\n",
    "filtered_results"
   ],
   "metadata": {
    "collapsed": false,
    "ExecuteTime": {
     "end_time": "2024-07-12T08:40:51.554988100Z",
     "start_time": "2024-07-12T08:40:51.506988100Z"
    }
   }
  },
  {
   "cell_type": "code",
   "execution_count": null,
   "outputs": [],
   "source": [],
   "metadata": {
    "collapsed": false
   }
  }
 ],
 "metadata": {
  "kernelspec": {
   "display_name": "Python 3",
   "language": "python",
   "name": "python3"
  },
  "language_info": {
   "codemirror_mode": {
    "name": "ipython",
    "version": 2
   },
   "file_extension": ".py",
   "mimetype": "text/x-python",
   "name": "python",
   "nbconvert_exporter": "python",
   "pygments_lexer": "ipython2",
   "version": "2.7.6"
  }
 },
 "nbformat": 4,
 "nbformat_minor": 0
}
